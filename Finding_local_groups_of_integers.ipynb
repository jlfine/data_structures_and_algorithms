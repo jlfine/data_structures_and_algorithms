{
 "cells": [
  {
   "cell_type": "markdown",
   "metadata": {},
   "source": [
    "## Finding local groups of integers in a list\n",
    "\n",
    "Jacob L. Fine\n",
    "\n",
    "June 12, 2024\n",
    "\n",
    "Supintegere we have an ordered list of integers, where some members of the list occur in proximity to each other. We wish to return a list of tuples, such that each tuple stores the first and last integer of each local group within the list of numbers. To define 'local' we can choose some offset, representing the maximum difference between two adjacent elements of a proximity group. \n",
    "\n",
    "So for instance, from the list of integers [0,1,3,6,9,50,53,56,70,100,110,120], we would like to return [(0,9),(50,70),(100,120)] in the case where our offset is 25. We will implement this below.\n",
    "\n",
    "The code is particularly useful for slicing strings based on pre-defined indices, where integers can represent starting positions of adjacent substrings, and we wish to merge adjacent substrings."
   ]
  },
  {
   "cell_type": "code",
   "execution_count": 11,
   "metadata": {},
   "outputs": [
    {
     "name": "stdout",
     "output_type": "stream",
     "text": [
      "[(0, 9), (50, 70), (100, 120)]\n"
     ]
    }
   ],
   "source": [
    "list_of_integers = [0,1,3,6,9,50,53,56,70,100,110,120]  # the list of integers\n",
    "\n",
    "offset = 25  # the offset\n",
    "\n",
    "def group_finder(integers) -> list:\n",
    "    \"\"\"\n",
    "    Groups integers into subgroups, when the difference between \n",
    "    consecutive elements falls below a pre-defined offset.\n",
    "    \n",
    "    Args:\n",
    "        integers (list of int): An ordered list of integers.\n",
    "    \n",
    "    Returns:\n",
    "        list of tuples: A list of tuples, each representing a subgroup.\n",
    "    \"\"\"\n",
    "\n",
    "    if not integers:  # if the list of integers is empty, just return an empty list\n",
    "        return []\n",
    "\n",
    "    tuples_list = []  # the tuples_list will be a list of tuples representing the subgroups\n",
    "    current_list = [integers[0]]  # the current list is initialized as the first element in the list of integers\n",
    "\n",
    "    for integer in integers[1:]:  # we then consider the remaining integers in the list of integers\n",
    "        if integer - current_list[-1] <= offset:  # if the most recently added integer differs by less than the offset\n",
    "            current_list.append(integer)  # appends integers only when they are less than offet\n",
    "        else:  # i.e, if the difference is larger than the offset\n",
    "            tuples_list.append((current_list[0], current_list[-1]))  # add the first and last integer from the current list as a tuple to the list of tuples\n",
    "            current_list = [integer]  # now, reset the current list to the current integer\n",
    "    \n",
    "\n",
    "    if current_list:  # the final group will then be appended if the current list is not empty\n",
    "        tuples_list.append((current_list[0], current_list[-1]))\n",
    "\n",
    "    return tuples_list  # the tuples_list is returned, which is the desired list of tuples\n",
    "\n",
    "divided_list = group_finder(list_of_integers)  # calls the function\n",
    "print(divided_list)  # prints the desired list of tuples"
   ]
  }
 ],
 "metadata": {
  "kernelspec": {
   "display_name": "Python 3",
   "language": "python",
   "name": "python3"
  },
  "language_info": {
   "codemirror_mode": {
    "name": "ipython",
    "version": 3
   },
   "file_extension": ".py",
   "mimetype": "text/x-python",
   "name": "python",
   "nbconvert_exporter": "python",
   "pygments_lexer": "ipython3",
   "version": "3.9.6"
  }
 },
 "nbformat": 4,
 "nbformat_minor": 2
}
